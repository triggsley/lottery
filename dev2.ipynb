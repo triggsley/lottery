{
 "cells": [
  {
   "cell_type": "code",
   "execution_count": 32,
   "id": "initial_id",
   "metadata": {
    "collapsed": true,
    "ExecuteTime": {
     "end_time": "2024-01-01T16:09:01.112646300Z",
     "start_time": "2024-01-01T16:09:01.085645100Z"
    }
   },
   "outputs": [],
   "source": [
    "import _sqlite3\n",
    "import pandas as pd\n",
    "import math\n",
    "from bs4 import BeautifulSoup\n",
    "import requests\n",
    "import re\n",
    "import datetime\n",
    "\n",
    "import importlib\n",
    "import common.lottery_results\n",
    "importlib.reload(common.lottery_results)\n",
    "from common.lottery_results import LotteryResultsCRUD\n",
    "\n",
    "import inspect\n",
    "\n",
    "pd.set_option('display.width', 4500)"
   ]
  },
  {
   "cell_type": "code",
   "execution_count": 33,
   "outputs": [
    {
     "name": "stdout",
     "output_type": "stream",
     "text": [
      "The method requires 1 arguments.\n"
     ]
    }
   ],
   "source": [
    "sqlite_db_name = 'lottery_checker.sqlite'\n",
    "connection = _sqlite3.connect(sqlite_db_name)\n",
    "crud = LotteryResultsCRUD(sqlite_db_name)\n",
    "\n",
    "method = crud.check_and_insert\n",
    "num_args = len(inspect.signature(method).parameters)\n",
    "print(f\"The method requires {num_args} arguments.\")"
   ],
   "metadata": {
    "collapsed": false,
    "ExecuteTime": {
     "end_time": "2024-01-01T16:09:03.185944800Z",
     "start_time": "2024-01-01T16:09:03.131420400Z"
    }
   },
   "id": "7e3c0a28b00d5e55"
  },
  {
   "cell_type": "code",
   "execution_count": null,
   "outputs": [],
   "source": [
    "query = \"Select * from lottery_meta where active = 'yes'\"\n",
    "\n",
    "df = pd.read_sql_query(query, connection)\n",
    "\n",
    "for index, meta in df.iterrows():\n",
    "    \n",
    "    # calculate the ending year, this applies to the Euro millions as changed format\n",
    "    # build the year range\n",
    "    if meta.lottery_end_year is None or (isinstance(meta.lottery_end_year, float) and math.isnan(meta.lottery_end_year)):\n",
    "        end_year = datetime.datetime.now().year + 1\n",
    "    else:\n",
    "        end_year = math.floor(meta.lottery_end_year + 1)\n",
    "    year_range = list(range(meta.lottery_start_year, end_year))\n",
    "\n",
    "    lottery_slug = meta.lottery_slug\n",
    "    lottery_id = meta.lottery_id\n",
    "    lottery_name = meta.lottery_name\n",
    "    lottery_class = meta.lottery_class\n",
    "    \n",
    "    col_string = meta.lottery_archive_columns\n",
    "    cols = col_string.split('|')\n",
    "    #cols = ['draw_date_str'] + cols\n",
    "    #cols = ['lottery_id'] + cols\n",
    "    #cols = ['draw_id'] + cols\n",
    "    \n",
    "    # loop over year_range to scrape year results\n",
    "    for year in year_range:\n",
    "               \n",
    "        base_url = 'https://www.lottery.co.uk/{}/results/archive-{}'.format(lottery_slug, year)\n",
    "        \n",
    "        response = requests.get(base_url)\n",
    "        html = response.content\n",
    "\n",
    "        soup = BeautifulSoup(html, \"html.parser\")\n",
    "        table = soup.find(\"table\", class_=lottery_class)\n",
    "        \n",
    "        if table:\n",
    "            \n",
    "            rows = table.find_all(\"tr\")\n",
    "            \n",
    "            for idx, row in enumerate(rows[1:], start=1):\n",
    "                      \n",
    "                cells = row.find_all([\"td\", \"th\"])\n",
    "                row_data = [cell.text.strip() for cell in cells]\n",
    "                \n",
    "                # Extract the href value from the first cell (assuming it's a link)\n",
    "                first_cell = cells[0]\n",
    "                href_value = first_cell.find('a')['href']\n",
    "                \n",
    "                # Split the href value to extract the date part\n",
    "                parts = href_value.split('-')\n",
    "                date_str = '-'.join(parts[-1:] + parts[-3:-1])\n",
    "                date_key = lottery_id + '|' + date_str\n",
    "            \n",
    "                # Add the extracted date as a new item in the dictionary\n",
    "                data_dict = {key: value for key, value in zip(cols, row_data)}\n",
    "                data_dict['lottery_id'] = lottery_id\n",
    "                data_dict['draw_id'] = date_key\n",
    "                data_dict['draw_date_str'] = date_str\n",
    "                data_df = pd.DataFrame(columns=cols)\n",
    "                \n",
    "                # Append the dictionary to the DataFrame\n",
    "                data_df = data_df.append(data_dict, ignore_index=True)\n",
    "                \n",
    "                # Melt the DataFrame while keeping 'draw_id' and 'lottery_id' columns\n",
    "                melted_df = pd.melt(data_df, id_vars=['draw_id', 'lottery_id', 'draw_date_str'], var_name='draw_column', value_name='draw_values')\n",
    "                        \n",
    "                # check the db.lottery_results to see if [draw_id] exists\n",
    "                # draw_id, draw_date, draw_column, draw_values, lottery_id\n",
    "                crud.check_and_insert(melted_df)\n",
    "                \n",
    "                del melted_df\n",
    "                del data_df\n",
    "        "
   ],
   "metadata": {
    "collapsed": false
   },
   "id": "93277cef96a6bed2"
  },
  {
   "cell_type": "code",
   "execution_count": 88,
   "outputs": [
    {
     "name": "stdout",
     "output_type": "stream",
     "text": [
      "lottery: s4l - - - cols: ['5', '1']\n",
      "draw_id              [s4l|2019-30-12]\n",
      "draw_values    [8, 18, 21, 23, 44, 4]\n",
      "Name: 0, dtype: object\n"
     ]
    },
    {
     "ename": "AttributeError",
     "evalue": "'list' object has no attribute 'split'",
     "output_type": "error",
     "traceback": [
      "\u001B[1;31m---------------------------------------------------------------------------\u001B[0m",
      "\u001B[1;31mAttributeError\u001B[0m                            Traceback (most recent call last)",
      "\u001B[1;32m<ipython-input-88-68a3d8bb8b6e>\u001B[0m in \u001B[0;36m<module>\u001B[1;34m\u001B[0m\n\u001B[0;32m     22\u001B[0m \u001B[1;33m\u001B[0m\u001B[0m\n\u001B[0;32m     23\u001B[0m         \u001B[1;31m# Split the input string by '|' to get 'main' and 'bonus'\u001B[0m\u001B[1;33m\u001B[0m\u001B[1;33m\u001B[0m\u001B[1;33m\u001B[0m\u001B[0m\n\u001B[1;32m---> 24\u001B[1;33m         \u001B[0mvalues\u001B[0m \u001B[1;33m=\u001B[0m \u001B[0mlottery_balls_draw\u001B[0m\u001B[1;33m.\u001B[0m\u001B[0msplit\u001B[0m\u001B[1;33m(\u001B[0m\u001B[1;34m'|'\u001B[0m\u001B[1;33m)\u001B[0m\u001B[1;33m\u001B[0m\u001B[1;33m\u001B[0m\u001B[0m\n\u001B[0m\u001B[0;32m     25\u001B[0m \u001B[1;33m\u001B[0m\u001B[0m\n\u001B[0;32m     26\u001B[0m         \u001B[1;31m# Convert 'main' and 'bonus' to integers\u001B[0m\u001B[1;33m\u001B[0m\u001B[1;33m\u001B[0m\u001B[1;33m\u001B[0m\u001B[0m\n",
      "\u001B[1;31mAttributeError\u001B[0m: 'list' object has no attribute 'split'"
     ]
    }
   ],
   "source": [
    "query = \"select lottery_id, lottery_balls_draw from lottery_meta where active = 'yes'\"\n",
    "\n",
    "df = pd.read_sql_query(query, connection)\n",
    "\n",
    "for index, meta in df.iterrows():\n",
    "    \n",
    "    lottery_id = meta.lottery_id\n",
    "\n",
    "    lottery_balls_draw = meta.lottery_balls_draw\n",
    "    lottery_balls_draw = lottery_balls_draw.split('|')\n",
    "    \n",
    "    print('lottery: {} - - - cols: {}'.format(lottery_id, lottery_balls_draw))\n",
    "    \n",
    "    query = \"select draw_id, draw_values from lottery_results where draw_column = 'results' and lottery_id = 's4l'\"\n",
    "    \n",
    "    draws = pd.read_sql_query(query, connection)\n",
    "    \n",
    "    for idx, draw in draws.iterrows():\n",
    "\n",
    "        balls_clean =  draw.astype(str).replace('\\n', ' ').str.split()\n",
    "        print((balls_clean))\n",
    "        \n",
    "        # Split the input string by '|' to get 'main' and 'bonus'\n",
    "        values = lottery_balls_draw.split('|')\n",
    "        \n",
    "        # Convert 'main' and 'bonus' to integers\n",
    "        main_value = int(values[0])\n",
    "        bonus_value = int(values[1])\n",
    "        \n",
    "        # Slice the list using the 'main_value' and 'bonus_value'\n",
    "        main_list = balls_clean[:main_value]\n",
    "        bonus_list = balls_clean[main_value:main_value+bonus_value]\n",
    "        \n",
    "        print(main_list)\n",
    "        print(main_list)\n",
    "        print('=-=-=-==-=-=-')"
   ],
   "metadata": {
    "collapsed": false,
    "ExecuteTime": {
     "end_time": "2024-01-02T20:02:56.406403100Z",
     "start_time": "2024-01-02T20:02:56.357400400Z"
    }
   },
   "id": "8ad88ceaa6216ca0"
  },
  {
   "cell_type": "code",
   "execution_count": 85,
   "outputs": [
    {
     "name": "stdout",
     "output_type": "stream",
     "text": [
      "Main: [23, 24, 25, 30, 31]\n",
      "Bonus: [9, 18]\n"
     ]
    }
   ],
   "source": [
    "# Your input string and list\n",
    "input_string = '5|2'\n",
    "my_list = [23, 24, 25, 30, 31, 9, 18]\n",
    "\n",
    "# Split the input string by '|' to get 'main' and 'bonus'\n",
    "values = input_string.split('|')\n",
    "\n",
    "# Convert 'main' and 'bonus' to integers\n",
    "main_value = int(values[0])\n",
    "bonus_value = int(values[1])\n",
    "\n",
    "# Slice the list using the 'main_value' and 'bonus_value'\n",
    "main_list = my_list[:main_value]\n",
    "bonus_list = my_list[main_value:main_value+bonus_value]\n",
    "\n",
    "# Print the results\n",
    "print(\"Main:\", main_list)\n",
    "print(\"Bonus:\", bonus_list)"
   ],
   "metadata": {
    "collapsed": false,
    "ExecuteTime": {
     "end_time": "2024-01-02T19:52:12.009210800Z",
     "start_time": "2024-01-02T19:52:11.976210Z"
    }
   },
   "id": "49bddef47f89dfda"
  }
 ],
 "metadata": {
  "kernelspec": {
   "display_name": "Python 3",
   "language": "python",
   "name": "python3"
  },
  "language_info": {
   "codemirror_mode": {
    "name": "ipython",
    "version": 2
   },
   "file_extension": ".py",
   "mimetype": "text/x-python",
   "name": "python",
   "nbconvert_exporter": "python",
   "pygments_lexer": "ipython2",
   "version": "2.7.6"
  }
 },
 "nbformat": 4,
 "nbformat_minor": 5
}
